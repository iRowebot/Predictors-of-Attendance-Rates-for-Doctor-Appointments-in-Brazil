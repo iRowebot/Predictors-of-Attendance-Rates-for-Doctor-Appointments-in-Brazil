{
 "cells": [
  {
   "cell_type": "markdown",
   "metadata": {},
   "source": [
    "# Project: Predictors of Attendance Rates for Doctor Appointments in Brazil\n",
    "\n",
    "\n",
    "\n",
    "\n",
    "\n",
    "## Table of Contents\n",
    "<ul>\n",
    "<li><a href=\"#intro\">Introduction</a></li>\n",
    "<li><a href=\"#wrangling\">Data Wrangling</a></li>\n",
    "<li><a href=\"#eda\">Exploratory Data Analysis</a></li>\n",
    "<li><a href=\"#conclusions\">Conclusions</a></li>\n",
    "</ul>"
   ]
  },
  {
   "cell_type": "markdown",
   "metadata": {},
   "source": [
    "<a id='intro'></a>\n",
    "## Introduction\n",
    "\n",
    "In this project, I'll be analyzing data from 110,527 doctor visits that took place in Brazil between April 29, 2016 and June 8, 2016. To limit this to patients not reliant on parents/legal guardians for transportation, I've cut the dataset down to only\n",
    "include patients ages 18 and older. I also removed people over the age of 100 since there were only 7 of them. With an age group\n",
    "that small, it would be easy for the data for that age group to be thrown off. There were 46,045 patients with a total of 83,136\n",
    "doctor visits that met this criteria.\n",
    "\n",
    "Equipped the dataset, I'll be exploring how age, gender, and various health issues affect the likelihood of a \n",
    "patient showing up to their appointment. I'll also be looking to see how effective SMS reminders are and see if the time \n",
    "between the dates scheduled the and appointment dates have any effect on the rate of no-shows."
   ]
  },
  {
   "cell_type": "code",
   "execution_count": 1,
   "metadata": {},
   "outputs": [],
   "source": [
    "import pandas as pd\n",
    "import numpy as np\n",
    "import matplotlib.pyplot as plt\n",
    "import seaborn as sns\n",
    "from matplotlib.ticker import FuncFormatter\n",
    "%matplotlib inline\n",
    "sns.set_style('white')"
   ]
  },
  {
   "cell_type": "markdown",
   "metadata": {},
   "source": [
    "<a id='wrangling'></a>\n",
    "## Data Wrangling\n",
    "\n",
    "This dataset was relatively clean to begin with, but there's a few changes that'll make analyzing this data easier. I'll start by loading the dataset from \"noshowappointments-kagglev2-may-2016.csv\" which Udacity originally sourced from Kaggle and taking a quick look at some basic properties of the dataset. \n",
    "\n",
    "### General Properties"
   ]
  },
  {
   "cell_type": "markdown",
   "metadata": {},
   "source": [
    "__Load data from .csv file using pandas__"
   ]
  },
  {
   "cell_type": "code",
   "execution_count": 2,
   "metadata": {
    "scrolled": false
   },
   "outputs": [
    {
     "data": {
      "text/html": [
       "<div>\n",
       "<style scoped>\n",
       "    .dataframe tbody tr th:only-of-type {\n",
       "        vertical-align: middle;\n",
       "    }\n",
       "\n",
       "    .dataframe tbody tr th {\n",
       "        vertical-align: top;\n",
       "    }\n",
       "\n",
       "    .dataframe thead th {\n",
       "        text-align: right;\n",
       "    }\n",
       "</style>\n",
       "<table border=\"1\" class=\"dataframe\">\n",
       "  <thead>\n",
       "    <tr style=\"text-align: right;\">\n",
       "      <th></th>\n",
       "      <th>PatientId</th>\n",
       "      <th>AppointmentID</th>\n",
       "      <th>Gender</th>\n",
       "      <th>ScheduledDay</th>\n",
       "      <th>AppointmentDay</th>\n",
       "      <th>Age</th>\n",
       "      <th>Neighbourhood</th>\n",
       "      <th>Scholarship</th>\n",
       "      <th>Hipertension</th>\n",
       "      <th>Diabetes</th>\n",
       "      <th>Alcoholism</th>\n",
       "      <th>Handcap</th>\n",
       "      <th>SMS_received</th>\n",
       "      <th>No-show</th>\n",
       "    </tr>\n",
       "  </thead>\n",
       "  <tbody>\n",
       "    <tr>\n",
       "      <th>0</th>\n",
       "      <td>2.987250e+13</td>\n",
       "      <td>5642903</td>\n",
       "      <td>F</td>\n",
       "      <td>2016-04-29T18:38:08Z</td>\n",
       "      <td>2016-04-29T00:00:00Z</td>\n",
       "      <td>62</td>\n",
       "      <td>JARDIM DA PENHA</td>\n",
       "      <td>0</td>\n",
       "      <td>1</td>\n",
       "      <td>0</td>\n",
       "      <td>0</td>\n",
       "      <td>0</td>\n",
       "      <td>0</td>\n",
       "      <td>No</td>\n",
       "    </tr>\n",
       "    <tr>\n",
       "      <th>1</th>\n",
       "      <td>5.589978e+14</td>\n",
       "      <td>5642503</td>\n",
       "      <td>M</td>\n",
       "      <td>2016-04-29T16:08:27Z</td>\n",
       "      <td>2016-04-29T00:00:00Z</td>\n",
       "      <td>56</td>\n",
       "      <td>JARDIM DA PENHA</td>\n",
       "      <td>0</td>\n",
       "      <td>0</td>\n",
       "      <td>0</td>\n",
       "      <td>0</td>\n",
       "      <td>0</td>\n",
       "      <td>0</td>\n",
       "      <td>No</td>\n",
       "    </tr>\n",
       "    <tr>\n",
       "      <th>2</th>\n",
       "      <td>4.262962e+12</td>\n",
       "      <td>5642549</td>\n",
       "      <td>F</td>\n",
       "      <td>2016-04-29T16:19:04Z</td>\n",
       "      <td>2016-04-29T00:00:00Z</td>\n",
       "      <td>62</td>\n",
       "      <td>MATA DA PRAIA</td>\n",
       "      <td>0</td>\n",
       "      <td>0</td>\n",
       "      <td>0</td>\n",
       "      <td>0</td>\n",
       "      <td>0</td>\n",
       "      <td>0</td>\n",
       "      <td>No</td>\n",
       "    </tr>\n",
       "    <tr>\n",
       "      <th>3</th>\n",
       "      <td>8.679512e+11</td>\n",
       "      <td>5642828</td>\n",
       "      <td>F</td>\n",
       "      <td>2016-04-29T17:29:31Z</td>\n",
       "      <td>2016-04-29T00:00:00Z</td>\n",
       "      <td>8</td>\n",
       "      <td>PONTAL DE CAMBURI</td>\n",
       "      <td>0</td>\n",
       "      <td>0</td>\n",
       "      <td>0</td>\n",
       "      <td>0</td>\n",
       "      <td>0</td>\n",
       "      <td>0</td>\n",
       "      <td>No</td>\n",
       "    </tr>\n",
       "    <tr>\n",
       "      <th>4</th>\n",
       "      <td>8.841186e+12</td>\n",
       "      <td>5642494</td>\n",
       "      <td>F</td>\n",
       "      <td>2016-04-29T16:07:23Z</td>\n",
       "      <td>2016-04-29T00:00:00Z</td>\n",
       "      <td>56</td>\n",
       "      <td>JARDIM DA PENHA</td>\n",
       "      <td>0</td>\n",
       "      <td>1</td>\n",
       "      <td>1</td>\n",
       "      <td>0</td>\n",
       "      <td>0</td>\n",
       "      <td>0</td>\n",
       "      <td>No</td>\n",
       "    </tr>\n",
       "  </tbody>\n",
       "</table>\n",
       "</div>"
      ],
      "text/plain": [
       "      PatientId  AppointmentID Gender          ScheduledDay  \\\n",
       "0  2.987250e+13        5642903      F  2016-04-29T18:38:08Z   \n",
       "1  5.589978e+14        5642503      M  2016-04-29T16:08:27Z   \n",
       "2  4.262962e+12        5642549      F  2016-04-29T16:19:04Z   \n",
       "3  8.679512e+11        5642828      F  2016-04-29T17:29:31Z   \n",
       "4  8.841186e+12        5642494      F  2016-04-29T16:07:23Z   \n",
       "\n",
       "         AppointmentDay  Age      Neighbourhood  Scholarship  Hipertension  \\\n",
       "0  2016-04-29T00:00:00Z   62    JARDIM DA PENHA            0             1   \n",
       "1  2016-04-29T00:00:00Z   56    JARDIM DA PENHA            0             0   \n",
       "2  2016-04-29T00:00:00Z   62      MATA DA PRAIA            0             0   \n",
       "3  2016-04-29T00:00:00Z    8  PONTAL DE CAMBURI            0             0   \n",
       "4  2016-04-29T00:00:00Z   56    JARDIM DA PENHA            0             1   \n",
       "\n",
       "   Diabetes  Alcoholism  Handcap  SMS_received No-show  \n",
       "0         0           0        0             0      No  \n",
       "1         0           0        0             0      No  \n",
       "2         0           0        0             0      No  \n",
       "3         0           0        0             0      No  \n",
       "4         1           0        0             0      No  "
      ]
     },
     "execution_count": 2,
     "metadata": {},
     "output_type": "execute_result"
    }
   ],
   "source": [
    "df_original = pd.read_csv('C:\\\\Users\\\\Ernest\\\\Desktop\\\\Coding\\\\Udacity\\\\Data Analyst Nanodegree\\\\Investigate a Dataset - Project 2\\\\Appointment No-shows\\\\noshowappointments-kagglev2-may-2016.csv')\n",
    "df = df_original.copy()\n",
    "df.head()"
   ]
  },
  {
   "cell_type": "markdown",
   "metadata": {},
   "source": [
    "I chose to load this data set and make a copy first so I could refer back to the original if I ever needed to."
   ]
  },
  {
   "cell_type": "code",
   "execution_count": 3,
   "metadata": {},
   "outputs": [
    {
     "name": "stdout",
     "output_type": "stream",
     "text": [
      "<class 'pandas.core.frame.DataFrame'>\n",
      "RangeIndex: 110527 entries, 0 to 110526\n",
      "Data columns (total 14 columns):\n",
      "PatientId         110527 non-null float64\n",
      "AppointmentID     110527 non-null int64\n",
      "Gender            110527 non-null object\n",
      "ScheduledDay      110527 non-null object\n",
      "AppointmentDay    110527 non-null object\n",
      "Age               110527 non-null int64\n",
      "Neighbourhood     110527 non-null object\n",
      "Scholarship       110527 non-null int64\n",
      "Hipertension      110527 non-null int64\n",
      "Diabetes          110527 non-null int64\n",
      "Alcoholism        110527 non-null int64\n",
      "Handcap           110527 non-null int64\n",
      "SMS_received      110527 non-null int64\n",
      "No-show           110527 non-null object\n",
      "dtypes: float64(1), int64(8), object(5)\n",
      "memory usage: 11.8+ MB\n"
     ]
    }
   ],
   "source": [
    "df.info()"
   ]
  },
  {
   "cell_type": "markdown",
   "metadata": {},
   "source": [
    "#### Now that my data is loaded, I'll make the following changes:\n",
    "* Correct spelling of the 'Hipertension' & 'Handcap' column headers. \n",
    "* Standardize column formatting with all lowercase letters. \n",
    "* Change 'scheduledday' and 'appointmentday' to pandas datetime format.\n",
    "* Remove 'appointmentid' column since the info it contains isn't useful.\n",
    "* Create a column indicating whether or not the appointment date is within 7 days of when it was scheduled. I anticipate that appointments made within a short time frame (7 days) will have higher turnout.\n",
    "* Create another column indicating whether or not the appointment date is within 1 day of when it was scheduled.\n",
    "* Filter the data to only include patients older than 18 years old, but also less than 100 years old. This also removes the  patient with an age of -1. \n",
    "* Change 'patientid' column type to int64 to fix exponential formatting.\n",
    "* Create age_group column to group by age.\n",
    "* To minimize confusion, change 'no-show' column name to 'attended' and make the column's formatting binary like the other yes/no columns. A '1' indicates the patient attended, a '0' indicates they were a no-show. New column will be dtype int64. "
   ]
  },
  {
   "cell_type": "markdown",
   "metadata": {},
   "source": [
    "__Correct spelling of the 'Hipertension' & 'Handcap' column headers:__"
   ]
  },
  {
   "cell_type": "code",
   "execution_count": 4,
   "metadata": {},
   "outputs": [],
   "source": [
    "df.rename(index=str, columns={\"Hipertension\": \"hypertension\", \"Handcap\": \"handicap\"}, inplace=True)"
   ]
  },
  {
   "cell_type": "markdown",
   "metadata": {},
   "source": [
    "__Standardize column formatting with all lowercase letters:__"
   ]
  },
  {
   "cell_type": "code",
   "execution_count": 5,
   "metadata": {},
   "outputs": [
    {
     "data": {
      "text/html": [
       "<div>\n",
       "<style scoped>\n",
       "    .dataframe tbody tr th:only-of-type {\n",
       "        vertical-align: middle;\n",
       "    }\n",
       "\n",
       "    .dataframe tbody tr th {\n",
       "        vertical-align: top;\n",
       "    }\n",
       "\n",
       "    .dataframe thead th {\n",
       "        text-align: right;\n",
       "    }\n",
       "</style>\n",
       "<table border=\"1\" class=\"dataframe\">\n",
       "  <thead>\n",
       "    <tr style=\"text-align: right;\">\n",
       "      <th></th>\n",
       "      <th>patientid</th>\n",
       "      <th>appointmentid</th>\n",
       "      <th>gender</th>\n",
       "      <th>scheduledday</th>\n",
       "      <th>appointmentday</th>\n",
       "      <th>age</th>\n",
       "      <th>neighbourhood</th>\n",
       "      <th>scholarship</th>\n",
       "      <th>hypertension</th>\n",
       "      <th>diabetes</th>\n",
       "      <th>alcoholism</th>\n",
       "      <th>handicap</th>\n",
       "      <th>sms_received</th>\n",
       "      <th>no-show</th>\n",
       "    </tr>\n",
       "  </thead>\n",
       "  <tbody>\n",
       "    <tr>\n",
       "      <th>0</th>\n",
       "      <td>2.987250e+13</td>\n",
       "      <td>5642903</td>\n",
       "      <td>F</td>\n",
       "      <td>2016-04-29T18:38:08Z</td>\n",
       "      <td>2016-04-29T00:00:00Z</td>\n",
       "      <td>62</td>\n",
       "      <td>JARDIM DA PENHA</td>\n",
       "      <td>0</td>\n",
       "      <td>1</td>\n",
       "      <td>0</td>\n",
       "      <td>0</td>\n",
       "      <td>0</td>\n",
       "      <td>0</td>\n",
       "      <td>No</td>\n",
       "    </tr>\n",
       "  </tbody>\n",
       "</table>\n",
       "</div>"
      ],
      "text/plain": [
       "      patientid  appointmentid gender          scheduledday  \\\n",
       "0  2.987250e+13        5642903      F  2016-04-29T18:38:08Z   \n",
       "\n",
       "         appointmentday  age    neighbourhood  scholarship  hypertension  \\\n",
       "0  2016-04-29T00:00:00Z   62  JARDIM DA PENHA            0             1   \n",
       "\n",
       "   diabetes  alcoholism  handicap  sms_received no-show  \n",
       "0         0           0         0             0      No  "
      ]
     },
     "execution_count": 5,
     "metadata": {},
     "output_type": "execute_result"
    }
   ],
   "source": [
    "df.rename(columns=lambda x: x.strip().lower().replace(' ', '_'), inplace=True)\n",
    "df.head(1)"
   ]
  },
  {
   "cell_type": "markdown",
   "metadata": {},
   "source": [
    "__Change 'scheduledday' and 'appointmentday' to pandas datetime format:__"
   ]
  },
  {
   "cell_type": "code",
   "execution_count": 6,
   "metadata": {},
   "outputs": [],
   "source": [
    "df['scheduledday'] = pd.to_datetime(df['scheduledday'])\n",
    "df['appointmentday'] = pd.to_datetime(df['appointmentday'])"
   ]
  },
  {
   "cell_type": "markdown",
   "metadata": {},
   "source": [
    "__Remove 'appointmentid' column since the info it contains isn't useful:__"
   ]
  },
  {
   "cell_type": "code",
   "execution_count": 7,
   "metadata": {},
   "outputs": [
    {
     "data": {
      "text/html": [
       "<div>\n",
       "<style scoped>\n",
       "    .dataframe tbody tr th:only-of-type {\n",
       "        vertical-align: middle;\n",
       "    }\n",
       "\n",
       "    .dataframe tbody tr th {\n",
       "        vertical-align: top;\n",
       "    }\n",
       "\n",
       "    .dataframe thead th {\n",
       "        text-align: right;\n",
       "    }\n",
       "</style>\n",
       "<table border=\"1\" class=\"dataframe\">\n",
       "  <thead>\n",
       "    <tr style=\"text-align: right;\">\n",
       "      <th></th>\n",
       "      <th>patientid</th>\n",
       "      <th>gender</th>\n",
       "      <th>scheduledday</th>\n",
       "      <th>appointmentday</th>\n",
       "      <th>age</th>\n",
       "      <th>neighbourhood</th>\n",
       "      <th>scholarship</th>\n",
       "      <th>hypertension</th>\n",
       "      <th>diabetes</th>\n",
       "      <th>alcoholism</th>\n",
       "      <th>handicap</th>\n",
       "      <th>sms_received</th>\n",
       "      <th>no-show</th>\n",
       "    </tr>\n",
       "  </thead>\n",
       "  <tbody>\n",
       "    <tr>\n",
       "      <th>0</th>\n",
       "      <td>2.987250e+13</td>\n",
       "      <td>F</td>\n",
       "      <td>2016-04-29 18:38:08</td>\n",
       "      <td>2016-04-29</td>\n",
       "      <td>62</td>\n",
       "      <td>JARDIM DA PENHA</td>\n",
       "      <td>0</td>\n",
       "      <td>1</td>\n",
       "      <td>0</td>\n",
       "      <td>0</td>\n",
       "      <td>0</td>\n",
       "      <td>0</td>\n",
       "      <td>No</td>\n",
       "    </tr>\n",
       "  </tbody>\n",
       "</table>\n",
       "</div>"
      ],
      "text/plain": [
       "      patientid gender        scheduledday appointmentday  age  \\\n",
       "0  2.987250e+13      F 2016-04-29 18:38:08     2016-04-29   62   \n",
       "\n",
       "     neighbourhood  scholarship  hypertension  diabetes  alcoholism  handicap  \\\n",
       "0  JARDIM DA PENHA            0             1         0           0         0   \n",
       "\n",
       "   sms_received no-show  \n",
       "0             0      No  "
      ]
     },
     "execution_count": 7,
     "metadata": {},
     "output_type": "execute_result"
    }
   ],
   "source": [
    "df.drop('appointmentid', axis=1, inplace=True)\n",
    "df.head(1)"
   ]
  },
  {
   "cell_type": "markdown",
   "metadata": {},
   "source": [
    "__Create a column indicating whether or not the appointment date is within 7 days of when it was scheduled:__"
   ]
  },
  {
   "cell_type": "code",
   "execution_count": 8,
   "metadata": {},
   "outputs": [],
   "source": [
    "df.insert(4, 'scheduled_within_7_days', ((df.appointmentday - df.scheduledday) <= np.timedelta64(7, 'D')))"
   ]
  },
  {
   "cell_type": "markdown",
   "metadata": {},
   "source": [
    "__Create another column indicating whether or not the appointment date is within 1 day of when it was scheduled:__"
   ]
  },
  {
   "cell_type": "code",
   "execution_count": 9,
   "metadata": {},
   "outputs": [],
   "source": [
    "df.insert(4, 'scheduled_within_1_day', ((df.appointmentday - df.scheduledday) <= np.timedelta64(1, 'D')))"
   ]
  },
  {
   "cell_type": "markdown",
   "metadata": {},
   "source": [
    "__Filter the data to only include patients older than 18 years old, but also less than 100 years old. This also removes the patient with an age of -1:__"
   ]
  },
  {
   "cell_type": "code",
   "execution_count": 10,
   "metadata": {},
   "outputs": [],
   "source": [
    "df = df.query('100 > age >= 18').copy()"
   ]
  },
  {
   "cell_type": "markdown",
   "metadata": {},
   "source": [
    "__Change 'patientid' column type to int64 to fix exponential formatting:__"
   ]
  },
  {
   "cell_type": "code",
   "execution_count": 11,
   "metadata": {
    "scrolled": true
   },
   "outputs": [
    {
     "data": {
      "text/html": [
       "<div>\n",
       "<style scoped>\n",
       "    .dataframe tbody tr th:only-of-type {\n",
       "        vertical-align: middle;\n",
       "    }\n",
       "\n",
       "    .dataframe tbody tr th {\n",
       "        vertical-align: top;\n",
       "    }\n",
       "\n",
       "    .dataframe thead th {\n",
       "        text-align: right;\n",
       "    }\n",
       "</style>\n",
       "<table border=\"1\" class=\"dataframe\">\n",
       "  <thead>\n",
       "    <tr style=\"text-align: right;\">\n",
       "      <th></th>\n",
       "      <th>patientid</th>\n",
       "      <th>gender</th>\n",
       "      <th>scheduledday</th>\n",
       "      <th>appointmentday</th>\n",
       "      <th>scheduled_within_1_day</th>\n",
       "      <th>scheduled_within_7_days</th>\n",
       "      <th>age</th>\n",
       "      <th>neighbourhood</th>\n",
       "      <th>scholarship</th>\n",
       "      <th>hypertension</th>\n",
       "      <th>diabetes</th>\n",
       "      <th>alcoholism</th>\n",
       "      <th>handicap</th>\n",
       "      <th>sms_received</th>\n",
       "      <th>no-show</th>\n",
       "    </tr>\n",
       "  </thead>\n",
       "  <tbody>\n",
       "    <tr>\n",
       "      <th>0</th>\n",
       "      <td>29872499824296</td>\n",
       "      <td>F</td>\n",
       "      <td>2016-04-29 18:38:08</td>\n",
       "      <td>2016-04-29</td>\n",
       "      <td>True</td>\n",
       "      <td>True</td>\n",
       "      <td>62</td>\n",
       "      <td>JARDIM DA PENHA</td>\n",
       "      <td>0</td>\n",
       "      <td>1</td>\n",
       "      <td>0</td>\n",
       "      <td>0</td>\n",
       "      <td>0</td>\n",
       "      <td>0</td>\n",
       "      <td>No</td>\n",
       "    </tr>\n",
       "  </tbody>\n",
       "</table>\n",
       "</div>"
      ],
      "text/plain": [
       "        patientid gender        scheduledday appointmentday  \\\n",
       "0  29872499824296      F 2016-04-29 18:38:08     2016-04-29   \n",
       "\n",
       "   scheduled_within_1_day  scheduled_within_7_days  age    neighbourhood  \\\n",
       "0                    True                     True   62  JARDIM DA PENHA   \n",
       "\n",
       "   scholarship  hypertension  diabetes  alcoholism  handicap  sms_received  \\\n",
       "0            0             1         0           0         0             0   \n",
       "\n",
       "  no-show  \n",
       "0      No  "
      ]
     },
     "execution_count": 11,
     "metadata": {},
     "output_type": "execute_result"
    }
   ],
   "source": [
    "df['patientid'] = df['patientid'].astype(np.int64)\n",
    "df.head(1)"
   ]
  },
  {
   "cell_type": "markdown",
   "metadata": {},
   "source": [
    "__Create age_group column to group by age:__"
   ]
  },
  {
   "cell_type": "code",
   "execution_count": 12,
   "metadata": {},
   "outputs": [
    {
     "data": {
      "text/html": [
       "<div>\n",
       "<style scoped>\n",
       "    .dataframe tbody tr th:only-of-type {\n",
       "        vertical-align: middle;\n",
       "    }\n",
       "\n",
       "    .dataframe tbody tr th {\n",
       "        vertical-align: top;\n",
       "    }\n",
       "\n",
       "    .dataframe thead th {\n",
       "        text-align: right;\n",
       "    }\n",
       "</style>\n",
       "<table border=\"1\" class=\"dataframe\">\n",
       "  <thead>\n",
       "    <tr style=\"text-align: right;\">\n",
       "      <th></th>\n",
       "      <th>patientid</th>\n",
       "      <th>gender</th>\n",
       "      <th>scheduledday</th>\n",
       "      <th>appointmentday</th>\n",
       "      <th>scheduled_within_1_day</th>\n",
       "      <th>scheduled_within_7_days</th>\n",
       "      <th>age</th>\n",
       "      <th>age_group</th>\n",
       "      <th>neighbourhood</th>\n",
       "      <th>scholarship</th>\n",
       "      <th>hypertension</th>\n",
       "      <th>diabetes</th>\n",
       "      <th>alcoholism</th>\n",
       "      <th>handicap</th>\n",
       "      <th>sms_received</th>\n",
       "      <th>no-show</th>\n",
       "    </tr>\n",
       "  </thead>\n",
       "  <tbody>\n",
       "    <tr>\n",
       "      <th>0</th>\n",
       "      <td>29872499824296</td>\n",
       "      <td>F</td>\n",
       "      <td>2016-04-29 18:38:08</td>\n",
       "      <td>2016-04-29</td>\n",
       "      <td>True</td>\n",
       "      <td>True</td>\n",
       "      <td>62</td>\n",
       "      <td>60-69</td>\n",
       "      <td>JARDIM DA PENHA</td>\n",
       "      <td>0</td>\n",
       "      <td>1</td>\n",
       "      <td>0</td>\n",
       "      <td>0</td>\n",
       "      <td>0</td>\n",
       "      <td>0</td>\n",
       "      <td>No</td>\n",
       "    </tr>\n",
       "  </tbody>\n",
       "</table>\n",
       "</div>"
      ],
      "text/plain": [
       "        patientid gender        scheduledday appointmentday  \\\n",
       "0  29872499824296      F 2016-04-29 18:38:08     2016-04-29   \n",
       "\n",
       "   scheduled_within_1_day  scheduled_within_7_days  age age_group  \\\n",
       "0                    True                     True   62     60-69   \n",
       "\n",
       "     neighbourhood  scholarship  hypertension  diabetes  alcoholism  handicap  \\\n",
       "0  JARDIM DA PENHA            0             1         0           0         0   \n",
       "\n",
       "   sms_received no-show  \n",
       "0             0      No  "
      ]
     },
     "execution_count": 12,
     "metadata": {},
     "output_type": "execute_result"
    }
   ],
   "source": [
    "bins = [18,29,39,49,59,69,79,89,99]\n",
    "labels = ['18-29','30-39','40-49','50-59','60-69','70-79','80-89','90-99']\n",
    "age_group = pd.cut(df['age'], bins=bins, labels=labels, include_lowest=True)\n",
    "df.insert(7, 'age_group', age_group)\n",
    "df.head(1)"
   ]
  },
  {
   "cell_type": "markdown",
   "metadata": {},
   "source": [
    "__Change 'no-show' column name to 'attended' and make the column's formatting binary like the other yes/no columns. A '1' \n",
    "indicates the patient attended, a '0' indicates they were a no-show. New column will be dtype int64:__"
   ]
  },
  {
   "cell_type": "code",
   "execution_count": 13,
   "metadata": {},
   "outputs": [
    {
     "data": {
      "text/html": [
       "<div>\n",
       "<style scoped>\n",
       "    .dataframe tbody tr th:only-of-type {\n",
       "        vertical-align: middle;\n",
       "    }\n",
       "\n",
       "    .dataframe tbody tr th {\n",
       "        vertical-align: top;\n",
       "    }\n",
       "\n",
       "    .dataframe thead th {\n",
       "        text-align: right;\n",
       "    }\n",
       "</style>\n",
       "<table border=\"1\" class=\"dataframe\">\n",
       "  <thead>\n",
       "    <tr style=\"text-align: right;\">\n",
       "      <th></th>\n",
       "      <th>patientid</th>\n",
       "      <th>gender</th>\n",
       "      <th>scheduledday</th>\n",
       "      <th>appointmentday</th>\n",
       "      <th>scheduled_within_1_day</th>\n",
       "      <th>scheduled_within_7_days</th>\n",
       "      <th>age</th>\n",
       "      <th>age_group</th>\n",
       "      <th>neighbourhood</th>\n",
       "      <th>scholarship</th>\n",
       "      <th>hypertension</th>\n",
       "      <th>diabetes</th>\n",
       "      <th>alcoholism</th>\n",
       "      <th>handicap</th>\n",
       "      <th>sms_received</th>\n",
       "      <th>attended</th>\n",
       "    </tr>\n",
       "  </thead>\n",
       "  <tbody>\n",
       "    <tr>\n",
       "      <th>0</th>\n",
       "      <td>29872499824296</td>\n",
       "      <td>F</td>\n",
       "      <td>2016-04-29 18:38:08</td>\n",
       "      <td>2016-04-29</td>\n",
       "      <td>True</td>\n",
       "      <td>True</td>\n",
       "      <td>62</td>\n",
       "      <td>60-69</td>\n",
       "      <td>JARDIM DA PENHA</td>\n",
       "      <td>0</td>\n",
       "      <td>1</td>\n",
       "      <td>0</td>\n",
       "      <td>0</td>\n",
       "      <td>0</td>\n",
       "      <td>0</td>\n",
       "      <td>1</td>\n",
       "    </tr>\n",
       "  </tbody>\n",
       "</table>\n",
       "</div>"
      ],
      "text/plain": [
       "        patientid gender        scheduledday appointmentday  \\\n",
       "0  29872499824296      F 2016-04-29 18:38:08     2016-04-29   \n",
       "\n",
       "   scheduled_within_1_day  scheduled_within_7_days  age age_group  \\\n",
       "0                    True                     True   62     60-69   \n",
       "\n",
       "     neighbourhood  scholarship  hypertension  diabetes  alcoholism  handicap  \\\n",
       "0  JARDIM DA PENHA            0             1         0           0         0   \n",
       "\n",
       "   sms_received  attended  \n",
       "0             0         1  "
      ]
     },
     "execution_count": 13,
     "metadata": {},
     "output_type": "execute_result"
    }
   ],
   "source": [
    "df.rename(index=str, columns={'no-show': 'attended'}, inplace=True)\n",
    "yes_no_binary_flip = {'Yes':'0', 'No':'1'}\n",
    "df['attended'].replace(yes_no_binary_flip, inplace=True)\n",
    "df['attended'] = df['attended'].astype(np.int64)\n",
    "df.head(1)"
   ]
  },
  {
   "cell_type": "markdown",
   "metadata": {},
   "source": [
    "<a id='eda'></a>\n",
    "## Exploratory Data Analysis\n",
    "\n",
    "In this section, I'll calculate the percent attendance for various groups and create visualizations with the goal of addressing questions posed in the Introduction section. \n",
    "\n",
    "_To reiterate, I'll be exploring how the following factors affect doctor appointment attendance rates:_\n",
    "> * Age\n",
    "> * Gender\n",
    "> * Hypertension\n",
    "> * Diabetes\n",
    "> * Alchoholism\n",
    "> * Disabilities\n",
    "> * SMS Reminders"
   ]
  },
  {
   "cell_type": "markdown",
   "metadata": {},
   "source": [
    "##### Useful functions\n",
    "To simplify things, I've made 2 functions to help visualize the data. The first one, `Get_percentage()` returns a pandas series with the percentage of people that showed up to their appointments. `Chart_percentage()` takes the series generated from `Get_percentage()` and returns a bar or line chart."
   ]
  },
  {
   "cell_type": "code",
   "execution_count": 14,
   "metadata": {},
   "outputs": [],
   "source": [
    "def Get_percentage(grouped_by):\n",
    "    '''\n",
    "    Takes a pandas series (column) and returns another pandas series with the percentage of people from each group that attended \n",
    "    their appointment.\n",
    "    '''\n",
    "    percent_attendance = df.query('attended == \"1\"').groupby(grouped_by).attended.count() / \\\n",
    "                                                                                df.groupby(grouped_by).attended.count()\n",
    "    percent_attendance = round((percent_attendance * 100), 2)\n",
    "    return percent_attendance"
   ]
  },
  {
   "cell_type": "code",
   "execution_count": 15,
   "metadata": {},
   "outputs": [],
   "source": [
    "def Chart_percentage(series, title, xlabel, ylabel, chart_type='bar', xticks_label=0):\n",
    "    '''\n",
    "    Takes a pandas series of percentages, a title, x and y labels.\n",
    "    Returns a bar or line chart. \n",
    "    \n",
    "    Parameters\n",
    "    ----------\n",
    "    chart_type : str\n",
    "    - 'bar' : vertical bar plot (default)\n",
    "    - 'line' : line plot\n",
    "    \n",
    "    xticks : sequence\n",
    "        Values to use for the xticks\n",
    "    '''\n",
    "    if xticks_label == 0:\n",
    "        xticks_label = series.index\n",
    "    formatter = FuncFormatter(lambda y, pos: \"%d%%\" % (y))\n",
    "    fig, ax = plt.subplots()\n",
    "    ax.yaxis.set_major_formatter(formatter)\n",
    "    ax = series.plot(kind=chart_type, alpha=0.8, figsize=(12,8))\n",
    "    for p in ax.patches:\n",
    "        height = p.get_height()\n",
    "        ax.text(p.get_x()+p.get_width()/2., height + 1, '{:1.2f}'.format(height), ha=\"center\") \n",
    "    plt.title(title, fontsize=18)\n",
    "    plt.xlabel(xlabel, fontsize=12)\n",
    "    plt.ylabel(ylabel, fontsize=12)\n",
    "    plt.xticks(range(len(series)), xticks_label, rotation='horizontal');"
   ]
  },
  {
   "cell_type": "markdown",
   "metadata": {},
   "source": [
    "### How does age affect rate of attendance?"
   ]
  },
  {
   "cell_type": "markdown",
   "metadata": {},
   "source": [
    "Use `Get_percentage('age_group')` to find the percentage of patients that attend by age group"
   ]
  },
  {
   "cell_type": "code",
   "execution_count": 16,
   "metadata": {},
   "outputs": [
    {
     "data": {
      "text/plain": [
       "age_group\n",
       "18-29    75.35\n",
       "30-39    78.25\n",
       "40-49    79.73\n",
       "50-59    82.50\n",
       "60-69    84.93\n",
       "70-79    84.80\n",
       "80-89    84.22\n",
       "90-99    79.80\n",
       "Name: attended, dtype: float64"
      ]
     },
     "execution_count": 16,
     "metadata": {},
     "output_type": "execute_result"
    }
   ],
   "source": [
    "age_group_percent_attended = Get_percentage('age_group')\n",
    "age_group_percent_attended"
   ]
  },
  {
   "cell_type": "markdown",
   "metadata": {},
   "source": [
    "Use `Chart_percentage()` to plot attendance by age group"
   ]
  },
  {
   "cell_type": "code",
   "execution_count": 17,
   "metadata": {},
   "outputs": [
    {
     "data": {
      "image/png": "[encoded data removed]",
      "text/plain": [
       "<Figure size 864x576 with 1 Axes>"
      ]
     },
     "metadata": {
      "needs_background": "light"
     },
     "output_type": "display_data"
    }
   ],
   "source": [
    "Chart_percentage(age_group_percent_attended, 'Percent Attendance by Age Group', 'Age Group', 'Percent Attendance', 'line')"
   ]
  },
  {
   "cell_type": "markdown",
   "metadata": {},
   "source": [
    "Across all age groups, rate of attendance steadily increases until peaking for patients in their 60's. After peaking for \n",
    "patients in their 60's, the rate of attendance slowly tapers off in the 70's & 80's age groups before seeing a sharp drop-off\n",
    "for those in their 90's. From this chart, one could reason that visiting a doctor becomes much more important as people age, but \n",
    "it's also becomes harder to get to the doctors once a certain age is hit."
   ]
  },
  {
   "cell_type": "markdown",
   "metadata": {},
   "source": [
    "### Are appointments scheduled by both genders equally?"
   ]
  },
  {
   "cell_type": "code",
   "execution_count": 18,
   "metadata": {
    "scrolled": false
   },
   "outputs": [
    {
     "data": {
      "image/png": "[encoded data removed]",
      "text/plain": [
       "<Figure size 864x576 with 1 Axes>"
      ]
     },
     "metadata": {
      "needs_background": "light"
     },
     "output_type": "display_data"
    }
   ],
   "source": [
    "df['gender'].value_counts().plot(kind='bar', alpha=0.8, figsize=(12,8))\n",
    "plt.title('Total Appointments by Gender', fontsize=18)\n",
    "plt.xlabel('Gender', fontsize=12)\n",
    "plt.ylabel('Total Appointments', fontsize=12)\n",
    "plt.xticks(rotation='horizontal');"
   ]
  },
  {
   "cell_type": "code",
   "execution_count": 19,
   "metadata": {},
   "outputs": [
    {
     "data": {
      "text/plain": [
       "F    57932\n",
       "M    25204\n",
       "Name: gender, dtype: int64"
      ]
     },
     "execution_count": 19,
     "metadata": {},
     "output_type": "execute_result"
    }
   ],
   "source": [
    "df.gender.value_counts()"
   ]
  },
  {
   "cell_type": "markdown",
   "metadata": {},
   "source": [
    "This wasn't one of the original questions I had, but I wanted to take a look at this data as it relates to my next question. To my surprise, women schedule more than double the appointments that men do. I would have guess that women are more health conscious than men, but the disparity between genders is much larger than I was expecting. In spite of this radical difference seen between men and women, I'd expect that males and females ages 18 and under would have a similar number of booked appointments since both genders are likely to be under their parents roof at that age."
   ]
  },
  {
   "cell_type": "code",
   "execution_count": 20,
   "metadata": {},
   "outputs": [
    {
     "data": {
      "text/plain": [
       "F    14955\n",
       "M    13912\n",
       "Name: Gender, dtype: int64"
      ]
     },
     "execution_count": 20,
     "metadata": {},
     "output_type": "execute_result"
    }
   ],
   "source": [
    "df_original.query('Age <= 18').Gender.value_counts()"
   ]
  },
  {
   "cell_type": "markdown",
   "metadata": {},
   "source": [
    "These numbers are much closer to what I would expect for adolescents, but females still have significantly more doctor appointments. To exclude most teen pregnancy related visits (which are high in Brazil), I'll take a look at the data for ages 16 and under."
   ]
  },
  {
   "cell_type": "code",
   "execution_count": 21,
   "metadata": {},
   "outputs": [
    {
     "data": {
      "text/plain": [
       "M    12994\n",
       "F    12877\n",
       "Name: Gender, dtype: int64"
      ]
     },
     "execution_count": 21,
     "metadata": {},
     "output_type": "execute_result"
    }
   ],
   "source": [
    "df_original.query('Age <= 16').Gender.value_counts()"
   ]
  },
  {
   "cell_type": "markdown",
   "metadata": {},
   "source": [
    "With the 16 and under age group, I've finally arived at figures that match my expectations. "
   ]
  },
  {
   "cell_type": "markdown",
   "metadata": {},
   "source": [
    "### How does gender affect rate of attendance?"
   ]
  },
  {
   "cell_type": "markdown",
   "metadata": {},
   "source": [
    "Use `Get_percentage('gender')` to find the percentage of patitents that attend by gender"
   ]
  },
  {
   "cell_type": "code",
   "execution_count": 22,
   "metadata": {},
   "outputs": [
    {
     "data": {
      "text/plain": [
       "gender\n",
       "F    80.1\n",
       "M    81.0\n",
       "Name: attended, dtype: float64"
      ]
     },
     "execution_count": 22,
     "metadata": {},
     "output_type": "execute_result"
    }
   ],
   "source": [
    "gender_percent_attended = Get_percentage('gender')\n",
    "gender_percent_attended "
   ]
  },
  {
   "cell_type": "markdown",
   "metadata": {},
   "source": [
    "Use `Chart_percentage()` to plot attendance by gender."
   ]
  },
  {
   "cell_type": "code",
   "execution_count": 23,
   "metadata": {},
   "outputs": [
    {
     "data": {
      "image/png": "[encoded data removed]",
      "text/plain": [
       "<Figure size 864x576 with 1 Axes>"
      ]
     },
     "metadata": {
      "needs_background": "light"
     },
     "output_type": "display_data"
    }
   ],
   "source": [
    "Chart_percentage(gender_percent_attended, 'Percent Attendance by Gender', 'Gender', 'Percent Attendance', xticks_label=['Female', 'Male'])"
   ]
  },
  {
   "cell_type": "markdown",
   "metadata": {},
   "source": [
    "Since men booked much fewer appointments than women, one would expect that men would have a lower rate of attendance as well.\n",
    "However, men and women had attendance rates that were roughly the same. In fact, men attended ~1% more of their appointments\n",
    "than women did. You could reason that women book more doctor appointments because they have higher need for them. Some of this could definitely be attributed to pregnancy related visits, but it's very likely that the bulk of this difference is due to male and female attitudes towards doctors and seeking help in general."
   ]
  },
  {
   "cell_type": "markdown",
   "metadata": {},
   "source": [
    "### How does hypertension affect rate of attendance?"
   ]
  },
  {
   "cell_type": "markdown",
   "metadata": {},
   "source": [
    "Use `Get_percentage('hypertension')` to find the percent attendance for patients with and without hypertension."
   ]
  },
  {
   "cell_type": "code",
   "execution_count": 24,
   "metadata": {},
   "outputs": [
    {
     "data": {
      "text/plain": [
       "hypertension\n",
       "0    79.54\n",
       "1    82.73\n",
       "Name: attended, dtype: float64"
      ]
     },
     "execution_count": 24,
     "metadata": {},
     "output_type": "execute_result"
    }
   ],
   "source": [
    "hypertension_percent_attended = Get_percentage('hypertension')\n",
    "hypertension_percent_attended"
   ]
  },
  {
   "cell_type": "markdown",
   "metadata": {},
   "source": [
    "Use `Chart_percentage()` to plot attendance of normal BP vs hypertension."
   ]
  },
  {
   "cell_type": "code",
   "execution_count": 25,
   "metadata": {},
   "outputs": [
    {
     "data": {
      "image/png": "[encoded data removed]",
      "text/plain": [
       "<Figure size 864x576 with 1 Axes>"
      ]
     },
     "metadata": {
      "needs_background": "light"
     },
     "output_type": "display_data"
    }
   ],
   "source": [
    "Chart_percentage(hypertension_percent_attended, 'Percent Attendance - Hypertension', 'No Hypertension vs Hypertension', \\\n",
    "      'Percent Attendance', xticks_label=['No Hypertension', 'Hypertension'])"
   ]
  },
  {
   "cell_type": "markdown",
   "metadata": {},
   "source": [
    "The \"Hypertension\" group's rate of attendance isn't that much higher than the \"No Hypertension\" group, but you could guess that the rate is higher because they have a higher need for visiting a doctor. Healthy people without hypertension wouldn't need to\n",
    "go to the doctor as much because they're generally in better shape."
   ]
  },
  {
   "cell_type": "markdown",
   "metadata": {},
   "source": [
    "### How does diabetes affect rate of attendance?"
   ]
  },
  {
   "cell_type": "markdown",
   "metadata": {},
   "source": [
    "Use `Get_percentage('diabetes')` to find the percent attendance for patients with and without diabetes."
   ]
  },
  {
   "cell_type": "code",
   "execution_count": 26,
   "metadata": {},
   "outputs": [
    {
     "data": {
      "text/plain": [
       "diabetes\n",
       "0    80.19\n",
       "1    82.08\n",
       "Name: attended, dtype: float64"
      ]
     },
     "execution_count": 26,
     "metadata": {},
     "output_type": "execute_result"
    }
   ],
   "source": [
    "diabetes_percent_attended = Get_percentage('diabetes')\n",
    "diabetes_percent_attended"
   ]
  },
  {
   "cell_type": "markdown",
   "metadata": {},
   "source": [
    "Use `Chart_percentage()` to plot attendance of non-diabetics vs diabetics."
   ]
  },
  {
   "cell_type": "code",
   "execution_count": 27,
   "metadata": {},
   "outputs": [
    {
     "data": {
      "image/png": "[encoded data removed]",
      "text/plain": [
       "<Figure size 864x576 with 1 Axes>"
      ]
     },
     "metadata": {
      "needs_background": "light"
     },
     "output_type": "display_data"
    }
   ],
   "source": [
    "Chart_percentage(diabetes_percent_attended, 'Percent Attendance - Diabetes', 'No Diabetes vs Diabetes', 'Percent Attendance', xticks_label=['No Diabetes', 'Diabetes'])"
   ]
  },
  {
   "cell_type": "markdown",
   "metadata": {},
   "source": [
    "Like the hypertension group, the higher rate of attendance for diabetics doesn't come as a surprise. It's more important for\n",
    "them to make it to their appointments because there's more at stake for them than for the average healthy person."
   ]
  },
  {
   "cell_type": "markdown",
   "metadata": {},
   "source": [
    "### How does alcoholism affect rate of attendance?"
   ]
  },
  {
   "cell_type": "markdown",
   "metadata": {},
   "source": [
    "Use `Get_percentage('alcoholism')` to find the percent attendance for patients with and without alcoholism."
   ]
  },
  {
   "cell_type": "code",
   "execution_count": 28,
   "metadata": {},
   "outputs": [
    {
     "data": {
      "text/plain": [
       "alcoholism\n",
       "0    80.38\n",
       "1    80.07\n",
       "Name: attended, dtype: float64"
      ]
     },
     "execution_count": 28,
     "metadata": {},
     "output_type": "execute_result"
    }
   ],
   "source": [
    "alcoholism_percent_attended = Get_percentage('alcoholism')\n",
    "alcoholism_percent_attended "
   ]
  },
  {
   "cell_type": "markdown",
   "metadata": {},
   "source": [
    "Use `Chart_percentage()` to plot attendance of non-alcoholics vs alcoholics."
   ]
  },
  {
   "cell_type": "code",
   "execution_count": 29,
   "metadata": {},
   "outputs": [
    {
     "data": {
      "image/png": "[encoded data removed]",
      "text/plain": [
       "<Figure size 864x576 with 1 Axes>"
      ]
     },
     "metadata": {
      "needs_background": "light"
     },
     "output_type": "display_data"
    }
   ],
   "source": [
    "Chart_percentage(alcoholism_percent_attended, 'Percent Attendance - Alcoholism', 'No Alcoholism vs Alcoholism', 'Percent Attendance', xticks_label=['No Alcoholism', 'Alcoholism'])"
   ]
  },
  {
   "cell_type": "code",
   "execution_count": 30,
   "metadata": {},
   "outputs": [
    {
     "data": {
      "text/plain": [
       "0    79800\n",
       "1     3336\n",
       "Name: alcoholism, dtype: int64"
      ]
     },
     "execution_count": 30,
     "metadata": {},
     "output_type": "execute_result"
    }
   ],
   "source": [
    "df.alcoholism.value_counts()"
   ]
  },
  {
   "cell_type": "markdown",
   "metadata": {},
   "source": [
    "These numbers are somewhat surprising. I would expect alcoholics to have a more difficult time getting to their doctor's\n",
    "appointments, but the percent attendance is very close to that of non-alcoholics."
   ]
  },
  {
   "cell_type": "markdown",
   "metadata": {},
   "source": [
    "### How do disabilities affect rate of attendance?"
   ]
  },
  {
   "cell_type": "markdown",
   "metadata": {},
   "source": [
    "Use `Get_percentage('handicap')` to find the percent attendance for patients having 0, 1, 2, 3, or 4 disabilities."
   ]
  },
  {
   "cell_type": "code",
   "execution_count": 31,
   "metadata": {
    "scrolled": true
   },
   "outputs": [
    {
     "data": {
      "text/plain": [
       "handicap\n",
       "0     80.29\n",
       "1     83.89\n",
       "2     77.40\n",
       "3     88.89\n",
       "4    100.00\n",
       "Name: attended, dtype: float64"
      ]
     },
     "execution_count": 31,
     "metadata": {},
     "output_type": "execute_result"
    }
   ],
   "source": [
    "handicap_percent_attended = Get_percentage('handicap')\n",
    "handicap_percent_attended"
   ]
  },
  {
   "cell_type": "markdown",
   "metadata": {},
   "source": [
    "Use `Chart_percentage()` to plot attendance of patients having 0, 1, 2, 3, or 4 disabilities."
   ]
  },
  {
   "cell_type": "code",
   "execution_count": 32,
   "metadata": {},
   "outputs": [
    {
     "data": {
      "image/png": "[encoded data removed]",
      "text/plain": [
       "<Figure size 864x576 with 1 Axes>"
      ]
     },
     "metadata": {
      "needs_background": "light"
     },
     "output_type": "display_data"
    }
   ],
   "source": [
    "Chart_percentage(handicap_percent_attended, 'Percent Attendance - Handicap', 'Number of Disabilities', 'Percent Attendance')"
   ]
  },
  {
   "cell_type": "markdown",
   "metadata": {},
   "source": [
    "It looks like attendance trends higher with more disabilities. This could be because people with multiple disabilities require\n",
    "more medical attention. It could also be that people with more disabilities are more likely to have someone caring for them and taking them to their appointments. However, the 5th bar being 100% makes me a bit suspicious. To investigate, I'll check how many appointments there are in each group."
   ]
  },
  {
   "cell_type": "code",
   "execution_count": 33,
   "metadata": {},
   "outputs": [
    {
     "data": {
      "text/plain": [
       "0    81136\n",
       "1     1844\n",
       "2      146\n",
       "3        9\n",
       "4        1\n",
       "Name: handicap, dtype: int64"
      ]
     },
     "execution_count": 33,
     "metadata": {},
     "output_type": "execute_result"
    }
   ],
   "source": [
    "df.handicap.value_counts()"
   ]
  },
  {
   "cell_type": "markdown",
   "metadata": {},
   "source": [
    "Unsurprisingly, there was only one appointment booked for people with 4 disabilities. There were also only 9 appointments for\n",
    "the group with 3 disabilities. Since these low numbers could throw off our percentages, I'll combine the last 3 bars into a \"2\n",
    "or more\" bar and re-plot the data."
   ]
  },
  {
   "cell_type": "code",
   "execution_count": 34,
   "metadata": {},
   "outputs": [
    {
     "data": {
      "text/plain": [
       "0    81136\n",
       "1     1844\n",
       "2      156\n",
       "Name: handicap, dtype: int64"
      ]
     },
     "execution_count": 34,
     "metadata": {},
     "output_type": "execute_result"
    }
   ],
   "source": [
    "df.handicap.replace({3:2, 4:2}, inplace=True)\n",
    "df.handicap.value_counts()"
   ]
  },
  {
   "cell_type": "markdown",
   "metadata": {},
   "source": [
    "Now I'll redo the bar chart and see if the upward trend still exists. "
   ]
  },
  {
   "cell_type": "code",
   "execution_count": 35,
   "metadata": {},
   "outputs": [
    {
     "data": {
      "text/plain": [
       "handicap\n",
       "0    80.29\n",
       "1    83.89\n",
       "2    78.21\n",
       "Name: attended, dtype: float64"
      ]
     },
     "execution_count": 35,
     "metadata": {},
     "output_type": "execute_result"
    }
   ],
   "source": [
    "modified_handicap_percent_attended = Get_percentage('handicap')\n",
    "modified_handicap_percent_attended "
   ]
  },
  {
   "cell_type": "code",
   "execution_count": 36,
   "metadata": {},
   "outputs": [
    {
     "data": {
      "image/png": "[encoded data removed]",
      "text/plain": [
       "<Figure size 864x576 with 1 Axes>"
      ]
     },
     "metadata": {
      "needs_background": "light"
     },
     "output_type": "display_data"
    }
   ],
   "source": [
    "Chart_percentage(modified_handicap_percent_attended, 'Percent Attendance - Handicap', 'Number of Disabilities', 'Percent Attendance', xticks_label=['0', '1', '2+'])"
   ]
  },
  {
   "cell_type": "markdown",
   "metadata": {},
   "source": [
    "This graph is likely a closer representation of reality. However, it would be a good idea to re-visit this question with a much\n",
    "larger dataset to see if bars 4 and 5 actually do have higher rates of attendance. "
   ]
  },
  {
   "cell_type": "markdown",
   "metadata": {},
   "source": [
    "### How effective are text messages at improving the rate of attendance?"
   ]
  },
  {
   "cell_type": "markdown",
   "metadata": {},
   "source": [
    "Use `Get_percentage('sms_received')` to find the percent attendance for patients that did or didn't receive a text reminder."
   ]
  },
  {
   "cell_type": "code",
   "execution_count": 37,
   "metadata": {
    "scrolled": true
   },
   "outputs": [
    {
     "data": {
      "text/plain": [
       "sms_received\n",
       "0    83.91\n",
       "1    73.20\n",
       "Name: attended, dtype: float64"
      ]
     },
     "execution_count": 37,
     "metadata": {},
     "output_type": "execute_result"
    }
   ],
   "source": [
    "sms_received_percent_attended = Get_percentage('sms_received')\n",
    "sms_received_percent_attended"
   ]
  },
  {
   "cell_type": "markdown",
   "metadata": {},
   "source": [
    "Use `Chart_percentage()` to plot attendance of patients that did or didn't receive a text reminder."
   ]
  },
  {
   "cell_type": "code",
   "execution_count": 38,
   "metadata": {},
   "outputs": [
    {
     "data": {
      "image/png": "[encoded data removed]",
      "text/plain": [
       "<Figure size 864x576 with 1 Axes>"
      ]
     },
     "metadata": {
      "needs_background": "light"
     },
     "output_type": "display_data"
    }
   ],
   "source": [
    "Chart_percentage(sms_received_percent_attended, 'Percentage Attendance - SMS Reminder', 'No SMS vs SMS', 'Percent Attendance', xticks_label=['No SMS', 'SMS'])"
   ]
  },
  {
   "cell_type": "markdown",
   "metadata": {},
   "source": [
    "One would expect to see a higher attendance rate from those that received a text reminder. However, the graph above shows that\n",
    "clearly wasn't the case when considering the entirety of the dataset. To understand why this could be, I considered what other\n",
    "factors might correlate with not receiving a text reminder. The first thing that came to mind is that people that schedule \n",
    "same-day appointments wouldn't have a need for a text reminder. I would also expect same-day appointments to have a higher\n",
    "attendance rate than those scheduled on a different day."
   ]
  },
  {
   "cell_type": "code",
   "execution_count": 39,
   "metadata": {},
   "outputs": [
    {
     "data": {
      "text/plain": [
       "scheduled_within_1_day  sms_received\n",
       "False                   1               27459\n",
       "                        0               24226\n",
       "True                    0               31451\n",
       "Name: sms_received, dtype: int64"
      ]
     },
     "execution_count": 39,
     "metadata": {},
     "output_type": "execute_result"
    }
   ],
   "source": [
    "df.groupby('scheduled_within_1_day')['sms_received'].value_counts()"
   ]
  },
  {
   "cell_type": "markdown",
   "metadata": {},
   "source": [
    "As suspected, same-day appointments didn't receive text reminders."
   ]
  },
  {
   "cell_type": "code",
   "execution_count": 40,
   "metadata": {},
   "outputs": [
    {
     "data": {
      "image/png": "[encoded data removed]",
      "text/plain": [
       "<Figure size 864x576 with 1 Axes>"
      ]
     },
     "metadata": {
      "needs_background": "light"
     },
     "output_type": "display_data"
    }
   ],
   "source": [
    "Chart_percentage(Get_percentage('scheduled_within_1_day'), \"Percentage Attendance - Same-day Appointments\", \"Same Day\", 'Percent Attendance')"
   ]
  },
  {
   "cell_type": "markdown",
   "metadata": {},
   "source": [
    "Same-day appointments had a significantly higher attendance than appointments scheduled 2 or more days prior to the appointment. \n",
    "With 31,451 out of 83,136 appointments being same-day appointments, this throws off our data by a large margin. Now I'll exclude\n",
    "same-day appointments and take another look."
   ]
  },
  {
   "cell_type": "code",
   "execution_count": 41,
   "metadata": {},
   "outputs": [
    {
     "data": {
      "text/plain": [
       "sms_received\n",
       "0.0    70.67\n",
       "1.0    73.20\n",
       "Name: attended, dtype: float64"
      ]
     },
     "execution_count": 41,
     "metadata": {},
     "output_type": "execute_result"
    }
   ],
   "source": [
    "sms_same_day_excluded_percent_attended = Get_percentage(df.query('scheduled_within_1_day == \"0\"')['sms_received'])\n",
    "sms_same_day_excluded_percent_attended"
   ]
  },
  {
   "cell_type": "code",
   "execution_count": 42,
   "metadata": {},
   "outputs": [
    {
     "data": {
      "image/png": "[encoded data removed]",
      "text/plain": [
       "<Figure size 864x576 with 1 Axes>"
      ]
     },
     "metadata": {
      "needs_background": "light"
     },
     "output_type": "display_data"
    }
   ],
   "source": [
    "Chart_percentage(sms_same_day_excluded_percent_attended, 'Percentage Attendance - SMS Reminder (1+ days after scheduled)', 'No SMS vs SMS', 'Percent Attendance')\n",
    "plt.xticks([0,1], ['No SMS', 'SMS']);"
   ]
  },
  {
   "cell_type": "markdown",
   "metadata": {},
   "source": [
    "This chart aligns closer with what I was expecting, but let's take it a step further by excluding same-week appointments."
   ]
  },
  {
   "cell_type": "code",
   "execution_count": 43,
   "metadata": {},
   "outputs": [
    {
     "data": {
      "text/plain": [
       "sms_received\n",
       "0.0    65.62\n",
       "1.0    71.40\n",
       "Name: attended, dtype: float64"
      ]
     },
     "execution_count": 43,
     "metadata": {},
     "output_type": "execute_result"
    }
   ],
   "source": [
    "sms_same_week_excluded_percent_attended = Get_percentage(df.query('scheduled_within_7_days == \"0\"')['sms_received'])\n",
    "sms_same_week_excluded_percent_attended"
   ]
  },
  {
   "cell_type": "code",
   "execution_count": 44,
   "metadata": {},
   "outputs": [
    {
     "data": {
      "image/png": "[encoded data removed]",
      "text/plain": [
       "<Figure size 864x576 with 1 Axes>"
      ]
     },
     "metadata": {
      "needs_background": "light"
     },
     "output_type": "display_data"
    }
   ],
   "source": [
    "Chart_percentage(sms_same_week_excluded_percent_attended, 'Percentage Attendance - SMS Reminder (7+ days after scheduled)', 'No SMS vs SMS', 'Percent Attendance')\n",
    "plt.xticks([0,1], ['No SMS', 'SMS']);"
   ]
  },
  {
   "cell_type": "markdown",
   "metadata": {},
   "source": [
    "For patients that scheduled more than a week before their appointment, there was a significant increase of nearly 6% in the rate\n",
    "of attendance for those that received a text reminder. A good idea for future analysis would be to collect data on not just whether or not someone received a text, but how many texts they received as well."
   ]
  },
  {
   "cell_type": "markdown",
   "metadata": {},
   "source": [
    "<a id='conclusions'></a>\n",
    "## Conclusions\n",
    "\n",
    "Despite a couple initial surprises like the one seen in the first SMS chart, there weren't any big shockers that I couldn't\n",
    "think of possible reasons for. However, I still find the gap between the number of women's and men's appointments both \n",
    "surprising and worrisome. As a man, I oftentimes find myself researching my own health concerns instead of inquiring with a \n",
    "healthcare professional. I suspect that much of the difference seen in mortality rates of men and women could be attributed to this single issue. Next time I'm sick, I'm going to keep this in mind before dismissing the idea of seeing a doctor.\n",
    "\n",
    "_A quick recommendation for healthcare providers:_\n",
    "> Since you can't change the age, gender, or disabilities a person has and you can't force people to improve their hypertension, diabetes, or alcoholism through lifestyle changes, you should look to make changes to things you can control. Things like SMS and phone call reminders are a great place to start, but you should also be making use of your data to help identify patients at highest risk of not showing up for appointments. I would continue to collect data on the attributes of this dataset, but I'd also expand which data points are collected. With more data, you could build better predictions. With better predictions, you can save more money and help more people. \n",
    "\n",
    "Given more data over a longer time period, I'd like to explore how predictable individual behavior is over time. I'd expect the best predictor of all to be the individual patient's attendance history. "
   ]
  }
 ],
 "metadata": {
  "kernelspec": {
   "display_name": "Python 3",
   "language": "python",
   "name": "python3"
  },
  "language_info": {
   "codemirror_mode": {
    "name": "ipython",
    "version": 3
   },
   "file_extension": ".py",
   "mimetype": "text/x-python",
   "name": "python",
   "nbconvert_exporter": "python",
   "pygments_lexer": "ipython3",
   "version": "3.6.6"
  }
 },
 "nbformat": 4,
 "nbformat_minor": 2
}
